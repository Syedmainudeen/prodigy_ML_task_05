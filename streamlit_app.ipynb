{
 "cells": [
  {
   "cell_type": "code",
   "execution_count": 2,
   "id": "4ac1b96f",
   "metadata": {},
   "outputs": [
    {
     "name": "stdout",
     "output_type": "stream",
     "text": [
      "Writing calorie_counter_app.py\n"
     ]
    }
   ],
   "source": [
    "%%writefile calorie_counter_app.py\n",
    "\n",
    "import streamlit as st\n",
    "from PIL import Image\n",
    "from tensorflow.keras.preprocessing.image import load_img, img_to_array\n",
    "import numpy as np\n",
    "from tensorflow.keras.models import load_model\n",
    "import requests\n",
    "from bs4 import BeautifulSoup\n",
    "\n",
    "model = load_model('FV.h5')\n",
    "labels = {0: 'apple', 1: 'banana', 2: 'beetroot', 3: 'bell pepper', 4: 'cabbage', 5: 'capsicum', 6: 'carrot',\n",
    "          7: 'cauliflower', 8: 'chilli pepper', 9: 'corn', 10: 'cucumber', 11: 'eggplant', 12: 'garlic', 13: 'ginger',\n",
    "          14: 'grapes', 15: 'jalepeno', 16: 'kiwi', 17: 'lemon', 18: 'lettuce',\n",
    "          19: 'mango', 20: 'onion', 21: 'orange', 22: 'paprika', 23: 'pear', 24: 'peas', 25: 'pineapple',\n",
    "          26: 'pomegranate', 27: 'potato', 28: 'raddish', 29: 'soy beans', 30: 'spinach', 31: 'sweetcorn',\n",
    "          32: 'sweetpotato', 33: 'tomato', 34: 'turnip', 35: 'watermelon'}\n",
    "\n",
    "fruits = ['Apple', 'Banana', 'Bello Pepper', 'Chilli Pepper', 'Grapes', 'Jalepeno', 'Kiwi', 'Lemon', 'Mango', 'Orange',\n",
    "          'Paprika', 'Pear', 'Pineapple', 'Pomegranate', 'Watermelon']\n",
    "vegetables = ['Beetroot', 'Cabbage', 'Capsicum', 'Carrot', 'Cauliflower', 'Corn', 'Cucumber', 'Eggplant', 'Ginger',\n",
    "              'Lettuce', 'Onion', 'Peas', 'Potato', 'Raddish', 'Soy Beans', 'Spinach', 'Sweetcorn', 'Sweetpotato',\n",
    "              'Tomato', 'Turnip']\n",
    "\n",
    "\n",
    "def fetch_calories(prediction):\n",
    "    try:\n",
    "        url = 'https://www.google.com/search?&q=calories in ' + prediction\n",
    "        req = requests.get(url).text\n",
    "        scrap = BeautifulSoup(req, 'html.parser')\n",
    "        calories = scrap.find(\"div\", class_=\"BNeawe iBp4i AP7Wnd\").text\n",
    "        return calories\n",
    "    except Exception as e:\n",
    "        st.error(\"Can't able to fetch the Calories\")\n",
    "        print(e)\n",
    "\n",
    "\n",
    "def processed_img(img_path):\n",
    "    img = load_img(img_path, target_size=(224, 224, 3))\n",
    "    img = img_to_array(img)\n",
    "    img = img / 255\n",
    "    img = np.expand_dims(img, axis=0)  # Use axis=0 instead of [0]\n",
    "    answer = model.predict(img)\n",
    "    y_class = answer.argmax(axis=-1)\n",
    "    print(y_class)\n",
    "    y = \" \".join(str(x) for x in y_class)\n",
    "    y = int(y)\n",
    "    res = labels[y]\n",
    "    print(res)\n",
    "    return res.capitalize()\n",
    "\n",
    "\n",
    "def run():\n",
    "    st.title(\"Fruits🍍-Vegetable🍅 Classification\")\n",
    "    img_file = st.file_uploader(\"Choose an Image\", type=[\"jpg\", \"png\"])\n",
    "    if img_file is not None:\n",
    "        img = Image.open(img_file).resize((250, 250))\n",
    "        st.image(img, use_column_width=False)\n",
    "        save_image_path = './upload_images/' + img_file.name\n",
    "        with open(save_image_path, \"wb\") as f:\n",
    "            f.write(img_file.getbuffer())\n",
    "\n",
    "        if img_file is not None:\n",
    "            result = processed_img(save_image_path)\n",
    "            print(result)\n",
    "            if result in vegetables:\n",
    "                st.info('**Category : Vegetables**')\n",
    "            else:\n",
    "                st.info('**Category : Fruit**')\n",
    "            st.success(\"**Predicted : \" + result + '**')\n",
    "            cal = fetch_calories(result)\n",
    "            if cal:\n",
    "                st.warning('**' + cal + '(100 grams)**')\n",
    "\n",
    "\n",
    "run()\n"
   ]
  },
  {
   "cell_type": "code",
   "execution_count": null,
   "id": "c9af0907",
   "metadata": {},
   "outputs": [],
   "source": []
  }
 ],
 "metadata": {
  "kernelspec": {
   "display_name": "Python 3 (ipykernel)",
   "language": "python",
   "name": "python3"
  },
  "language_info": {
   "codemirror_mode": {
    "name": "ipython",
    "version": 3
   },
   "file_extension": ".py",
   "mimetype": "text/x-python",
   "name": "python",
   "nbconvert_exporter": "python",
   "pygments_lexer": "ipython3",
   "version": "3.10.9"
  }
 },
 "nbformat": 4,
 "nbformat_minor": 5
}
